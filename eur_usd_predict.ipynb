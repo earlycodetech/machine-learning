{
 "cells": [
  {
   "cell_type": "code",
   "execution_count": 33,
   "metadata": {},
   "outputs": [],
   "source": [
    "import numpy as np\n",
    "import pandas as pd"
   ]
  },
  {
   "cell_type": "code",
   "execution_count": 2,
   "metadata": {},
   "outputs": [],
   "source": [
    "data = pd.read_html('https://finance.yahoo.com/quote/EURUSD%3DX/history?p=EURUSD%3DX')[0]"
   ]
  },
  {
   "cell_type": "code",
   "execution_count": 3,
   "metadata": {},
   "outputs": [],
   "source": [
    "data.drop(['Adj Close**','Volume'],axis=1,inplace=True)"
   ]
  },
  {
   "cell_type": "code",
   "execution_count": 20,
   "metadata": {},
   "outputs": [],
   "source": [
    "data.drop(100,inplace=True)"
   ]
  },
  {
   "cell_type": "code",
   "execution_count": 21,
   "metadata": {},
   "outputs": [],
   "source": [
    "ind = data.index"
   ]
  },
  {
   "cell_type": "code",
   "execution_count": 22,
   "metadata": {},
   "outputs": [],
   "source": [
    "#convert columns to str\n",
    "Open = []\n",
    "High = []\n",
    "Low = []\n",
    "Close = []\n",
    "\n",
    "for index in ind:\n",
    "    Open.append(float(data['Open'][index]))\n",
    "    High.append(float(data['High'][index]))\n",
    "    Low.append(float(data['Low'][index]))\n",
    "    Close.append(float(data['Close*'][index]))\n",
    "    "
   ]
  },
  {
   "cell_type": "code",
   "execution_count": 23,
   "metadata": {},
   "outputs": [],
   "source": [
    "data['Open'] = Open\n",
    "data['High'] = High\n",
    "data['Low'] = Low\n",
    "data['Close*'] = Close"
   ]
  },
  {
   "cell_type": "code",
   "execution_count": 24,
   "metadata": {},
   "outputs": [
    {
     "data": {
      "text/plain": [
       "numpy.float64"
      ]
     },
     "execution_count": 24,
     "metadata": {},
     "output_type": "execute_result"
    }
   ],
   "source": [
    "type(data['Open'][0])"
   ]
  },
  {
   "cell_type": "code",
   "execution_count": 25,
   "metadata": {},
   "outputs": [
    {
     "data": {
      "text/html": [
       "<div>\n",
       "<style scoped>\n",
       "    .dataframe tbody tr th:only-of-type {\n",
       "        vertical-align: middle;\n",
       "    }\n",
       "\n",
       "    .dataframe tbody tr th {\n",
       "        vertical-align: top;\n",
       "    }\n",
       "\n",
       "    .dataframe thead th {\n",
       "        text-align: right;\n",
       "    }\n",
       "</style>\n",
       "<table border=\"1\" class=\"dataframe\">\n",
       "  <thead>\n",
       "    <tr style=\"text-align: right;\">\n",
       "      <th></th>\n",
       "      <th>Date</th>\n",
       "      <th>Open</th>\n",
       "      <th>High</th>\n",
       "      <th>Low</th>\n",
       "      <th>Close*</th>\n",
       "    </tr>\n",
       "  </thead>\n",
       "  <tbody>\n",
       "    <tr>\n",
       "      <th>0</th>\n",
       "      <td>Mar 24, 2021</td>\n",
       "      <td>1.1853</td>\n",
       "      <td>1.1858</td>\n",
       "      <td>1.1816</td>\n",
       "      <td>1.1833</td>\n",
       "    </tr>\n",
       "    <tr>\n",
       "      <th>1</th>\n",
       "      <td>Mar 23, 2021</td>\n",
       "      <td>1.1933</td>\n",
       "      <td>1.1943</td>\n",
       "      <td>1.1864</td>\n",
       "      <td>1.1933</td>\n",
       "    </tr>\n",
       "    <tr>\n",
       "      <th>2</th>\n",
       "      <td>Mar 22, 2021</td>\n",
       "      <td>1.1885</td>\n",
       "      <td>1.1937</td>\n",
       "      <td>1.1876</td>\n",
       "      <td>1.1883</td>\n",
       "    </tr>\n",
       "    <tr>\n",
       "      <th>3</th>\n",
       "      <td>Mar 19, 2021</td>\n",
       "      <td>1.1918</td>\n",
       "      <td>1.1937</td>\n",
       "      <td>1.1875</td>\n",
       "      <td>1.1918</td>\n",
       "    </tr>\n",
       "    <tr>\n",
       "      <th>4</th>\n",
       "      <td>Mar 18, 2021</td>\n",
       "      <td>1.1981</td>\n",
       "      <td>1.1991</td>\n",
       "      <td>1.1910</td>\n",
       "      <td>1.1983</td>\n",
       "    </tr>\n",
       "  </tbody>\n",
       "</table>\n",
       "</div>"
      ],
      "text/plain": [
       "           Date    Open    High     Low  Close*\n",
       "0  Mar 24, 2021  1.1853  1.1858  1.1816  1.1833\n",
       "1  Mar 23, 2021  1.1933  1.1943  1.1864  1.1933\n",
       "2  Mar 22, 2021  1.1885  1.1937  1.1876  1.1883\n",
       "3  Mar 19, 2021  1.1918  1.1937  1.1875  1.1918\n",
       "4  Mar 18, 2021  1.1981  1.1991  1.1910  1.1983"
      ]
     },
     "execution_count": 25,
     "metadata": {},
     "output_type": "execute_result"
    }
   ],
   "source": [
    "data.head()"
   ]
  },
  {
   "cell_type": "code",
   "execution_count": 26,
   "metadata": {},
   "outputs": [],
   "source": [
    "ind = data.index"
   ]
  },
  {
   "cell_type": "code",
   "execution_count": 42,
   "metadata": {},
   "outputs": [],
   "source": [
    "previous_close = 0\n",
    "current_open = 0\n",
    "dif = [] #to hold all dif between open and close of all days\n",
    "decision = [] #hold values of whether it went up or down\n",
    "track_and_reset = 1\n",
    "\n",
    "for index in ind:\n",
    "    previous_close = data['Close*'][index]\n",
    "    track_and_reset += 1\n",
    "    \n",
    "    if track_and_reset%2 == 1:\n",
    "        current_open = data['Open'][index]\n",
    "        \n",
    "    #find diff of close and open\n",
    "    diff = current_open - previous_close\n",
    "    dif.append(np.round(diff,4))\n",
    "    \n",
    "    if diff < 0:\n",
    "        decision.append('Down')\n",
    "    elif diff > 0:\n",
    "        decision.append('Up')\n",
    "    else:\n",
    "        decision.append('Undecided')\n",
    "        \n",
    "#set dataset parameters to new column \n",
    "data['Diff'] = dif  \n",
    "data['Decision'] = decision"
   ]
  },
  {
   "cell_type": "code",
   "execution_count": 63,
   "metadata": {},
   "outputs": [],
   "source": [
    "X = data.drop(['Date','Decision'],axis=1)\n",
    "y = data['Decision']"
   ]
  },
  {
   "cell_type": "code",
   "execution_count": 64,
   "metadata": {},
   "outputs": [],
   "source": [
    "from sklearn.model_selection import train_test_split"
   ]
  },
  {
   "cell_type": "code",
   "execution_count": 65,
   "metadata": {},
   "outputs": [],
   "source": [
    "X_train,X_test,y_train,y_test = train_test_split(X,y,test_size=0.3,random_state=42)"
   ]
  },
  {
   "cell_type": "code",
   "execution_count": 66,
   "metadata": {},
   "outputs": [],
   "source": [
    "from sklearn.linear_model import LogisticRegression"
   ]
  },
  {
   "cell_type": "code",
   "execution_count": 67,
   "metadata": {},
   "outputs": [],
   "source": [
    "logreg = LogisticRegression()"
   ]
  },
  {
   "cell_type": "code",
   "execution_count": 68,
   "metadata": {},
   "outputs": [
    {
     "data": {
      "text/plain": [
       "LogisticRegression()"
      ]
     },
     "execution_count": 68,
     "metadata": {},
     "output_type": "execute_result"
    }
   ],
   "source": [
    "logreg.fit(X_train,y_train)"
   ]
  },
  {
   "cell_type": "code",
   "execution_count": 69,
   "metadata": {},
   "outputs": [
    {
     "data": {
      "text/plain": [
       "0.6"
      ]
     },
     "execution_count": 69,
     "metadata": {},
     "output_type": "execute_result"
    }
   ],
   "source": [
    "logreg.score(X_test,y_test)"
   ]
  },
  {
   "cell_type": "code",
   "execution_count": 70,
   "metadata": {},
   "outputs": [
    {
     "data": {
      "text/plain": [
       "array(['Down'], dtype=object)"
      ]
     },
     "execution_count": 70,
     "metadata": {},
     "output_type": "execute_result"
    }
   ],
   "source": [
    "#input a new day readings to predict direction\n",
    "logreg.predict([[1.1859,1.1868,1.1822,1.1833,-1.1800]])"
   ]
  },
  {
   "cell_type": "code",
   "execution_count": null,
   "metadata": {},
   "outputs": [],
   "source": []
  }
 ],
 "metadata": {
  "kernelspec": {
   "display_name": "Python 3",
   "language": "python",
   "name": "python3"
  },
  "language_info": {
   "codemirror_mode": {
    "name": "ipython",
    "version": 3
   },
   "file_extension": ".py",
   "mimetype": "text/x-python",
   "name": "python",
   "nbconvert_exporter": "python",
   "pygments_lexer": "ipython3",
   "version": "3.8.3"
  }
 },
 "nbformat": 4,
 "nbformat_minor": 4
}
